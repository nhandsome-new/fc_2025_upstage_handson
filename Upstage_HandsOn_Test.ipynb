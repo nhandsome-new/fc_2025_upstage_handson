{
 "cells": [
  {
   "cell_type": "markdown",
   "metadata": {},
   "source": [
    "# Upstage HandsOn Test Code\n",
    "- pip install 確認\n",
    "- Upstage API 確認\n",
    "  - Upstage API Keyが必要\n",
    "- Weaveアクセス 確認\n",
    "  - Weaveのアカウントが必要\n",
    "\n",
    "# おすすめ\n",
    "pip install / API設定をShell上行う\n",
    "\n",
    "```sh\n",
    "pip install weave\n",
    "pip install 'weave[scorers]'\n",
    "export UPSTAGE_API_KEY=\"YOUR_API_KEY\"\n",
    "export OPENAI_API_KEY=\"YOUR_API_KEY\"\n",
    "```\n",
    "\n",
    "\n",
    "### オプション①：venv + jupyter notebookを利用\n",
    "```bash\n",
    "# 1. 仮想環境を作成・有効化\n",
    "python -m venv venv\n",
    "source venv/bin/activate  # Mac/Linux\n",
    "# venv\\Scripts\\activate   # Windows\n",
    "\n",
    "# 2. Jupyterを起動\n",
    "jupyter notebook\n",
    "```\n",
    "\n",
    "### オプション②：venv + vscodeを利用\n",
    "```bash\n",
    "# 1. 仮想環境を作成・有効化\n",
    "python -m venv venv\n",
    "source venv/bin/activate  # Mac/Linux\n",
    "# venv\\Scripts\\activate   # Windows\n",
    "\n",
    "# 2. vscodeのExtensionsでJupyter Notebook設置\n",
    "```\n",
    "\n",
    "### オプション②：Google Colabを利用\n",
    "- [リンク](google-)にアクセスし、「Upstage_HandsOn_XXX」ファイルを開く"
   ]
  },
  {
   "cell_type": "code",
   "execution_count": 14,
   "metadata": {},
   "outputs": [
    {
     "name": "stdout",
     "output_type": "stream",
     "text": [
      "✅ weave\n",
      "✅ requests\n",
      "✅ weave[scorers]\n"
     ]
    }
   ],
   "source": [
    "# pip install check\n",
    "try:\n",
    "    import weave\n",
    "    print(\"✅ weave\")\n",
    "except ImportError:\n",
    "    print(\"❌ weave\")\n",
    "    print(\"pip install weave\")\n",
    "\n",
    "try:\n",
    "    import requests\n",
    "    print(\"✅ requests\")\n",
    "except ImportError:\n",
    "    print(\"❌ requests\")\n",
    "    print(\"pip install requests\")\n",
    "    \n",
    "# Option：OPENAI_API_KEYお持ちの方\n",
    "try:\n",
    "    from weave.scorers import EmbeddingSimilarityScorer\n",
    "    print(\"✅ weave[scorers]\")\n",
    "except ImportError:\n",
    "    print(\"❌ weave[scorers]\")\n",
    "    print(\"pip install weave[scorers]\")\n"
   ]
  },
  {
   "cell_type": "code",
   "execution_count": 15,
   "metadata": {},
   "outputs": [
    {
     "name": "stdout",
     "output_type": "stream",
     "text": [
      "✅ UPSTAGE_API_KEY が設定されています: up_c****\n",
      "✅ LLM応答: Hello! It's nice to meet you. \"Hello, World!\" is a classic first program in many programming languages. It's traditionally used to introduce beginners to the syntax of a new language.  \n",
      "\n",
      "If you'd like, I can show you how to write \"Hello, World!\" in various programming languages. Just let me know which one(s) interest you!  \n",
      "\n",
      "For example:\n",
      "- **Python**: `print(\"Hello, World!\")`\n",
      "- **JavaScript**: `console\n"
     ]
    }
   ],
   "source": [
    "# Upstage API(LLM Hello World)確認\n",
    "import os\n",
    "\n",
    "# os.environ[\"UPSTAGE_API_KEY\"] = \"YOUR_API_KEY\"\n",
    "# おすすめ：Shellで\n",
    "# export UPSTAGE_API_KEY=\"YOUR_API_KEY\"\n",
    "\n",
    "api_key = os.environ.get(\"UPSTAGE_API_KEY\")\n",
    "if not api_key:\n",
    "    raise ValueError(\"❌ UPSTAGE_API_KEY が環境変数に設定されていません。\")\n",
    "else:\n",
    "    print(f\"✅ UPSTAGE_API_KEY が設定されています: {api_key[:4]}****\")  \n",
    "    \n",
    "messages = [{\"role\": \"user\", \"content\": \"Hello World\"}]\n",
    "payload = {\"model\": \"solar-pro2\", \"messages\": messages, \"temperature\": 0.1, \"max_tokens\": 100}\n",
    "\n",
    "response = requests.post(\n",
    "    \"https://api.upstage.ai/v1/solar/chat/completions\",\n",
    "    headers={\"Authorization\": f\"Bearer {api_key}\", \"Content-Type\": \"application/json\"},\n",
    "    json=payload\n",
    ")\n",
    "\n",
    "result = response.json()\n",
    "print(f\"✅ LLM応答: {result['choices'][0]['message']['content']}\")"
   ]
  },
  {
   "cell_type": "code",
   "execution_count": 16,
   "metadata": {},
   "outputs": [
    {
     "name": "stdout",
     "output_type": "stream",
     "text": [
      "✅ OPENAI_API_KEY が設定されています: sk-p****\n"
     ]
    }
   ],
   "source": [
    "# Option：OPENAI_API_KEYの確認\n",
    "import os\n",
    "\n",
    "# os.environ[\"OPENAI_API_KEY\"] = \"YOUR_API_KEY\"\n",
    "# おすすめ：Shellで\n",
    "# export OPENAI_API_KEY=\"YOUR_API_KEY\"\n",
    "\n",
    "api_key = os.environ.get(\"OPENAI_API_KEY\")\n",
    "if not api_key:\n",
    "    raise ValueError(\"❌ OPENAI_API_KEY が環境変数に設定されていません。\")\n",
    "else:\n",
    "    print(f\"✅ OPENAI_API_KEY が設定されています: {api_key[:4]}****\")"
   ]
  },
  {
   "cell_type": "code",
   "execution_count": 17,
   "metadata": {},
   "outputs": [
    {
     "name": "stdout",
     "output_type": "stream",
     "text": [
      "✅ Weave機能: テスト完了: Hello Weave\n"
     ]
    },
    {
     "name": "stderr",
     "output_type": "stream",
     "text": [
      "/var/folders/1b/_jbv1lxn457d4z71n10rh0sc0000gn/T/ipykernel_17218/765610597.py:2: DeprecationWarning: Python 3.9 will reach end of life in October 2025, after which weave will drop support for it.  Please upgrade to Python 3.10 or later!\n",
      "  weave.init(\"test-project\")\n"
     ]
    }
   ],
   "source": [
    "# Weaveアクセス確認\n",
    "weave.init(\"test-project\")\n",
    "\n",
    "@weave.op\n",
    "def test_function(text: str) -> str:\n",
    "    return f\"テスト完了: {text}\"\n",
    "\n",
    "result = test_function(\"Hello Weave\")\n",
    "print(f\"✅ Weave機能: {result}\")"
   ]
  },
  {
   "cell_type": "code",
   "execution_count": null,
   "metadata": {},
   "outputs": [],
   "source": []
  }
 ],
 "metadata": {
  "kernelspec": {
   "display_name": "venfads",
   "language": "python",
   "name": "python3"
  },
  "language_info": {
   "codemirror_mode": {
    "name": "ipython",
    "version": 3
   },
   "file_extension": ".py",
   "mimetype": "text/x-python",
   "name": "python",
   "nbconvert_exporter": "python",
   "pygments_lexer": "ipython3",
   "version": "3.9.10"
  }
 },
 "nbformat": 4,
 "nbformat_minor": 4
}
