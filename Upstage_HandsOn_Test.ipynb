{
 "cells": [
  {
   "cell_type": "markdown",
   "metadata": {},
   "source": [
    "# Google Colabを利用してますでしょうか？\n",
    "以下のコードを実行してください。\n",
    "- UPSTAGE_API_KEYを取得・書き換え\n",
    "\n",
    "```sh\n",
    "# 🔑 APIキー設定\n",
    "# # https://console.upstage.ai/api-keys\n",
    "import os\n",
    "os.environ[\"UPSTAGE_API_KEY\"] = \"YOUR_API_KEY\"\n",
    "print(\"🔐 Upstage APIキーを設定しました\")\n",
    "```\n",
    "\n",
    "他の設定は入りません。"
   ]
  },
  {
   "cell_type": "code",
   "execution_count": null,
   "metadata": {},
   "outputs": [],
   "source": [
    "import os\n",
    "\n",
    "# ===============================\n",
    "# 🧪 weaveのインストール\n",
    "# ===============================\n",
    "print(\"📦 weave をインストール中...\")\n",
    "!pip install -q weave==0.52.9\n",
    "\n",
    "# ===============================\n",
    "# 🔑 Upstage APIキーの設定\n",
    "# ===============================\n",
    "# # https://console.upstage.ai/api-keys\n",
    "os.environ[\"UPSTAGE_API_KEY\"] = \"YOUR_API_KEY\"\n",
    "print(\"🔐 Upstage APIキーを設定しました\")\n",
    "\n",
    "# ===============================\n",
    "# 📁 パス設定\n",
    "# ===============================\n",
    "ZIP_URL = \"https://github.com/nhandsome-new/fc_2025_upstage_handson/raw/main/prep_google_colab/demo_imgs.zip\"\n",
    "ZIP_FILE = \"demo_imgs.zip\"\n",
    "EXTRACT_DIR = \"/content/demo_imgs\"\n",
    "\n",
    "# ===============================\n",
    "# 📂 フォルダがあるかチェック\n",
    "# ===============================\n",
    "if not os.path.exists(EXTRACT_DIR):\n",
    "    print(\"📂 フォルダが存在しません。初回セットアップを開始します...\")\n",
    "\n",
    "    # 🧭 1) 既存のフォルダ・ZIPファイルを削除（存在しなくてもOK）\n",
    "    print(\"🧭 既存のフォルダ・ZIPファイルを削除中...\")\n",
    "    !rm -rf {EXTRACT_DIR} || true\n",
    "    !rm -f {ZIP_FILE} || true\n",
    "\n",
    "    # ⬇️ 2) wgetでZIPファイルをダウンロード\n",
    "    print(f\"⬇️ ZIPファイルをダウンロード中: {ZIP_URL}\")\n",
    "    !wget -q -O {ZIP_FILE} {ZIP_URL}\n",
    "    print(\"✅ ダウンロード完了\")\n",
    "\n",
    "    # 📦 3) ZIPファイルを解凍\n",
    "    print(\"📦 ZIPファイルを解凍中...\")\n",
    "    !unzip -q {ZIP_FILE} -d .\n",
    "    print(\"✅ 解凍完了\")\n",
    "\n",
    "    # 🧼 4) ZIPファイルを削除\n",
    "    print(\"🧼 ZIPファイルを削除中...\")\n",
    "    !rm {ZIP_FILE}\n",
    "    print(\"✅ ZIPファイル削除完了\")\n",
    "\n",
    "else:\n",
    "    print(\"✅ 既にフォルダが存在するため、ダウンロードと解凍はスキップします。\")\n",
    "\n",
    "# ===============================\n",
    "# 📂 展開結果の確認\n",
    "# ===============================\n",
    "print(f\"📂 展開結果の確認: {EXTRACT_DIR}\")\n",
    "!ls -l {EXTRACT_DIR}\n"
   ]
  },
  {
   "cell_type": "markdown",
   "metadata": {},
   "source": [
    "# Upstage HandsOn Test Code\n",
    "\n",
    "[README](README.md)の「環境設定」が終わった後、このコードが動くかを確認する。"
   ]
  },
  {
   "cell_type": "code",
   "execution_count": 1,
   "metadata": {},
   "outputs": [
    {
     "name": "stdout",
     "output_type": "stream",
     "text": [
      "✅ weave\n"
     ]
    }
   ],
   "source": [
    "# pip install check\n",
    "try:\n",
    "    import weave\n",
    "    print(\"✅ weave\")\n",
    "except ImportError:\n",
    "    print(\"❌ weave\")\n",
    "    print(\"pip install weave\")"
   ]
  },
  {
   "cell_type": "code",
   "execution_count": null,
   "metadata": {},
   "outputs": [
    {
     "name": "stdout",
     "output_type": "stream",
     "text": [
      "✅ UPSTAGE_API_KEY が設定されています: up_c****\n",
      "✅ LLM応答: Hello! It's nice to meet you. How can I assist you today? 😊  \n",
      "\n",
      "(If you're just testing, feel free to ask me anything or try a fun prompt like:  \n",
      "- *\"Explain quantum physics like I'm 5\"*  \n",
      "- *\"Write a haiku about robots\"*  \n",
      "- *\"Solve this math problem: 123 × 456\"*  \n",
      "I'm here to help!)\n"
     ]
    }
   ],
   "source": [
    "# Upstage API(LLM Hello World)確認\n",
    "import os\n",
    "import requests\n",
    "\n",
    "# ======================================================\n",
    "# APIキーの設定\n",
    "# https://console.upstage.ai/api-keys\n",
    "# ======================================================\n",
    "# os.environ[\"UPSTAGE_API_KEY\"] = 'YOUR_API_KEY' # ← 実際のキーをここに入れる\n",
    "\n",
    "api_key = os.environ.get(\"UPSTAGE_API_KEY\")\n",
    "if not api_key:\n",
    "    raise ValueError(\"❌ UPSTAGE_API_KEY が環境変数に設定されていません。\")\n",
    "else:\n",
    "    print(f\"✅ UPSTAGE_API_KEY が設定されています: {api_key[:4]}****\")  \n",
    "    \n",
    "messages = [{\"role\": \"user\", \"content\": \"Hello World\"}]\n",
    "payload = {\"model\": \"solar-pro2\", \"messages\": messages, \"temperature\": 0.1, \"max_tokens\": 100}\n",
    "\n",
    "response = requests.post(\n",
    "    \"https://api.upstage.ai/v1/solar/chat/completions\",\n",
    "    headers={\"Authorization\": f\"Bearer {api_key}\", \"Content-Type\": \"application/json\"},\n",
    "    json=payload\n",
    ")\n",
    "\n",
    "result = response.json()\n",
    "print(f\"✅ LLM応答: {result['choices'][0]['message']['content']}\")"
   ]
  },
  {
   "cell_type": "code",
   "execution_count": 3,
   "metadata": {},
   "outputs": [
    {
     "name": "stderr",
     "output_type": "stream",
     "text": [
      "\u001b[36m\u001b[1mweave\u001b[0m: Logged in as Weights & Biases user: nhandsome.\n",
      "\u001b[36m\u001b[1mweave\u001b[0m: View Weave data at https://wandb.ai/nhandsome/test-project/weave\n"
     ]
    },
    {
     "name": "stdout",
     "output_type": "stream",
     "text": [
      "✅ Weave機能: テスト完了: Hello Weave\n"
     ]
    },
    {
     "name": "stderr",
     "output_type": "stream",
     "text": [
      "\u001b[36m\u001b[1mweave\u001b[0m: 🍩 https://wandb.ai/nhandsome/test-project/r/call/0199e265-11dd-704a-97a9-a3921f4d4e2c\n"
     ]
    }
   ],
   "source": [
    "# Weaveアクセス確認\n",
    "weave.init(\"test-project\")\n",
    "\n",
    "@weave.op\n",
    "def test_function(text: str) -> str:\n",
    "    return f\"テスト完了: {text}\"\n",
    "\n",
    "result = test_function(\"Hello Weave\")\n",
    "print(f\"✅ Weave機能: {result}\")"
   ]
  }
 ],
 "metadata": {
  "kernelspec": {
   "display_name": "venv_fc_upstage",
   "language": "python",
   "name": "python3"
  },
  "language_info": {
   "codemirror_mode": {
    "name": "ipython",
    "version": 3
   },
   "file_extension": ".py",
   "mimetype": "text/x-python",
   "name": "python",
   "nbconvert_exporter": "python",
   "pygments_lexer": "ipython3",
   "version": "3.10.11"
  }
 },
 "nbformat": 4,
 "nbformat_minor": 4
}
