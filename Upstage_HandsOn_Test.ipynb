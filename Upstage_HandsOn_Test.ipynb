{
 "cells": [
  {
   "cell_type": "markdown",
   "metadata": {},
   "source": [
    "# Upstage HandsOn Test Code\n",
    "\n",
    "[README](README.md)の「環境設定」が終わった後、このコードが動くかを確認する。"
   ]
  },
  {
   "cell_type": "code",
   "execution_count": 1,
   "metadata": {},
   "outputs": [
    {
     "name": "stdout",
     "output_type": "stream",
     "text": [
      "✅ weave\n"
     ]
    }
   ],
   "source": [
    "# pip install check\n",
    "try:\n",
    "    import weave\n",
    "    print(\"✅ weave\")\n",
    "except ImportError:\n",
    "    print(\"❌ weave\")\n",
    "    print(\"pip install weave\")"
   ]
  },
  {
   "cell_type": "code",
   "execution_count": null,
   "metadata": {},
   "outputs": [
    {
     "name": "stdout",
     "output_type": "stream",
     "text": [
      "✅ UPSTAGE_API_KEY が設定されています: up_c****\n",
      "✅ LLM応答: Hello! It's nice to meet you. How can I assist you today? 😊  \n",
      "\n",
      "(If you're just testing, feel free to ask me anything or try a fun prompt like:  \n",
      "- *\"Explain quantum physics like I'm 5\"*  \n",
      "- *\"Write a haiku about robots\"*  \n",
      "- *\"Solve this math problem: 123 × 456\"*  \n",
      "I'm here to help!)\n"
     ]
    }
   ],
   "source": [
    "# Upstage API(LLM Hello World)確認\n",
    "import os\n",
    "import requests\n",
    "\n",
    "# ======================================================\n",
    "# APIキーの設定\n",
    "# https://console.upstage.ai/api-keys\n",
    "# ======================================================\n",
    "# os.environ[\"UPSTAGE_API_KEY\"] = 'YOUR_API_KEY' # ← 実際のキーをここに入れる\n",
    "\n",
    "api_key = os.environ.get(\"UPSTAGE_API_KEY\")\n",
    "if not api_key:\n",
    "    raise ValueError(\"❌ UPSTAGE_API_KEY が環境変数に設定されていません。\")\n",
    "else:\n",
    "    print(f\"✅ UPSTAGE_API_KEY が設定されています: {api_key[:4]}****\")  \n",
    "    \n",
    "messages = [{\"role\": \"user\", \"content\": \"Hello World\"}]\n",
    "payload = {\"model\": \"solar-pro2\", \"messages\": messages, \"temperature\": 0.1, \"max_tokens\": 100}\n",
    "\n",
    "response = requests.post(\n",
    "    \"https://api.upstage.ai/v1/solar/chat/completions\",\n",
    "    headers={\"Authorization\": f\"Bearer {api_key}\", \"Content-Type\": \"application/json\"},\n",
    "    json=payload\n",
    ")\n",
    "\n",
    "result = response.json()\n",
    "print(f\"✅ LLM応答: {result['choices'][0]['message']['content']}\")"
   ]
  },
  {
   "cell_type": "code",
   "execution_count": 3,
   "metadata": {},
   "outputs": [
    {
     "name": "stderr",
     "output_type": "stream",
     "text": [
      "\u001b[36m\u001b[1mweave\u001b[0m: Logged in as Weights & Biases user: nhandsome.\n",
      "\u001b[36m\u001b[1mweave\u001b[0m: View Weave data at https://wandb.ai/nhandsome/test-project/weave\n"
     ]
    },
    {
     "name": "stdout",
     "output_type": "stream",
     "text": [
      "✅ Weave機能: テスト完了: Hello Weave\n"
     ]
    },
    {
     "name": "stderr",
     "output_type": "stream",
     "text": [
      "\u001b[36m\u001b[1mweave\u001b[0m: 🍩 https://wandb.ai/nhandsome/test-project/r/call/0199e265-11dd-704a-97a9-a3921f4d4e2c\n"
     ]
    }
   ],
   "source": [
    "# Weaveアクセス確認\n",
    "weave.init(\"test-project\")\n",
    "\n",
    "@weave.op\n",
    "def test_function(text: str) -> str:\n",
    "    return f\"テスト完了: {text}\"\n",
    "\n",
    "result = test_function(\"Hello Weave\")\n",
    "print(f\"✅ Weave機能: {result}\")"
   ]
  }
 ],
 "metadata": {
  "kernelspec": {
   "display_name": "venv_fc_upstage",
   "language": "python",
   "name": "python3"
  },
  "language_info": {
   "codemirror_mode": {
    "name": "ipython",
    "version": 3
   },
   "file_extension": ".py",
   "mimetype": "text/x-python",
   "name": "python",
   "nbconvert_exporter": "python",
   "pygments_lexer": "ipython3",
   "version": "3.10.11"
  }
 },
 "nbformat": 4,
 "nbformat_minor": 4
}
