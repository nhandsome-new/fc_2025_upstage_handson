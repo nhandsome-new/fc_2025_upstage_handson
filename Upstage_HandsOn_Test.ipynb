{
 "cells": [
  {
   "cell_type": "markdown",
   "metadata": {},
   "source": [
    "# Upstage HandsOn Test Code\n",
    "Google Colabでの実行をおすすめします。\n",
    "\n",
    "## Google Colabの場合、下のコードを実行してください。\n",
    "- UPSTAGE_API_KEY / WANDB_API_KEYの設定が必要です。\n",
    "- [Upstage API](https://console.upstage.ai/api-keys)\n",
    "- [WANDB API](https://wandb.ai/authorize)\n",
    "\n",
    "## Github Clone＋別途環境の場合、READMEをご参考ください。\n",
    "[README](README.md)の「環境設定」が終わった後、このコードが動くかを確認する。\n"
   ]
  },
  {
   "cell_type": "code",
   "execution_count": null,
   "metadata": {},
   "outputs": [
    {
     "name": "stdout",
     "output_type": "stream",
     "text": [
      "📦 weave をインストール中...\n",
      "\n",
      "\u001b[1m[\u001b[0m\u001b[34;49mnotice\u001b[0m\u001b[1;39;49m]\u001b[0m\u001b[39;49m A new release of pip is available: \u001b[0m\u001b[31;49m23.0.1\u001b[0m\u001b[39;49m -> \u001b[0m\u001b[32;49m25.3\u001b[0m\n",
      "\u001b[1m[\u001b[0m\u001b[34;49mnotice\u001b[0m\u001b[1;39;49m]\u001b[0m\u001b[39;49m To update, run: \u001b[0m\u001b[32;49mpip install --upgrade pip\u001b[0m\n",
      "🔐 Upstage APIキーを設定しました\n",
      "🔐 WANDB APIキーを設定しました\n",
      "📂 フォルダが存在しません。初回セットアップを開始します...\n",
      "🧭 既存のフォルダ・ZIPファイルを削除中...\n",
      "⬇️ ZIPファイルをダウンロード中: https://github.com/nhandsome-new/fc_2025_upstage_handson/raw/main/prep_google_colab/demo_imgs.zip\n",
      "✅ ダウンロード完了\n",
      "📦 ZIPファイルを解凍中...\n",
      "replace ./demo_imgs/classification/sample_1.jpeg? [y]es, [n]o, [A]ll, [N]one, [r]ename: "
     ]
    }
   ],
   "source": [
    "import os\n",
    "\n",
    "# ===============================\n",
    "# 🧪 weaveのインストール\n",
    "# ===============================\n",
    "print(\"📦 weave をインストール中...\")\n",
    "!pip install -q weave==0.52.9\n",
    "\n",
    "# ===============================\n",
    "# 🔑 APIキーの設定\n",
    "# ===============================\n",
    "# https://console.upstage.ai/api-keys\n",
    "os.environ[\"UPSTAGE_API_KEY\"] = \"YOUR_API_KEY\"\n",
    "print(\"🔐 Upstage APIキーを設定しました\")\n",
    "\n",
    "# https://wandb.ai/authorize (https://docs.wandb.ai/ja/support/find_api_key/ に解説があります)\n",
    "os.environ[\"WANDB_API_KEY\"] = \"YOUR_API_KEY\"\n",
    "print(\"🔐 WANDB APIキーを設定しました\")\n",
    "\n",
    "# ===============================\n",
    "# 📁 パス設定\n",
    "# ===============================\n",
    "ZIP_URL = \"https://github.com/nhandsome-new/fc_2025_upstage_handson/raw/main/prep_google_colab/demo_imgs.zip\"\n",
    "ZIP_FILE = \"demo_imgs.zip\"\n",
    "EXTRACT_DIR = \"/content/demo_imgs\"\n",
    "\n",
    "# ===============================\n",
    "# 📂 フォルダがあるかチェック\n",
    "# ===============================\n",
    "if not os.path.exists(EXTRACT_DIR):\n",
    "    print(\"📂 フォルダが存在しません。初回セットアップを開始します...\")\n",
    "\n",
    "    # 🧭 1) 既存のフォルダ・ZIPファイルを削除（存在しなくてもOK）\n",
    "    print(\"🧭 既存のフォルダ・ZIPファイルを削除中...\")\n",
    "    !rm -rf {EXTRACT_DIR} || true\n",
    "    !rm -f {ZIP_FILE} || true\n",
    "\n",
    "    # ⬇️ 2) wgetでZIPファイルをダウンロード\n",
    "    print(f\"⬇️ ZIPファイルをダウンロード中: {ZIP_URL}\")\n",
    "    !wget -q -O {ZIP_FILE} {ZIP_URL}\n",
    "    print(\"✅ ダウンロード完了\")\n",
    "\n",
    "    # 📦 3) ZIPファイルを解凍\n",
    "    print(\"📦 ZIPファイルを解凍中...\")\n",
    "    !unzip -q {ZIP_FILE} -d .\n",
    "    print(\"✅ 解凍完了\")\n",
    "\n",
    "    # 🧼 4) ZIPファイルを削除\n",
    "    print(\"🧼 ZIPファイルを削除中...\")\n",
    "    !rm {ZIP_FILE}\n",
    "    print(\"✅ ZIPファイル削除完了\")\n",
    "\n",
    "else:\n",
    "    print(\"✅ 既にフォルダが存在するため、ダウンロードと解凍はスキップします。\")\n",
    "\n",
    "# ===============================\n",
    "# 📂 展開結果の確認\n",
    "# ===============================\n",
    "print(f\"📂 展開結果の確認: {EXTRACT_DIR}\")\n",
    "!ls -l {EXTRACT_DIR}\n"
   ]
  },
  {
   "cell_type": "markdown",
   "metadata": {},
   "source": [
    "\n",
    "## 結果\n",
    "### pip install check\n",
    "```\n",
    "✅ weave\n",
    "```\n",
    "\n",
    "---\n",
    "\n",
    "### Upstage\n",
    "```\n",
    "✅ UPSTAGE_API_KEY が設定されています: up_c****\n",
    "✅ LLM応答: Hello! It's nice to meet you. How can I assist you today? 😊  \n",
    "\n",
    "(If you're just testing or saying \"Hello World\" as a greeting, feel free to ask me anything or let me know if you'd like help with something specific!)  \n",
    "\n",
    "Examples of what I can do:  \n",
    "- Answer questions  \n",
    "- Explain concepts  \n",
    "- Help with coding  \n",
    "- Offer creative ideas  \n",
    "- Provide learning resources  \n",
    "- And more!  \n",
    "\n",
    "Just let me know!\n",
    "```\n",
    "\n",
    "---\n",
    "\n",
    "### Weight and Bias\n",
    "```\n",
    "weave: Please login to Weights & Biases (https://wandb.ai) to continue...\n",
    "/usr/local/lib/python3.12/dist-packages/notebook/notebookapp.py:191: SyntaxWarning: invalid escape sequence '\\/'\n",
    "  | |_| | '_ \\/ _` / _` |  _/ -_)\n",
    "wandb: Logging into wandb.ai. (Learn how to deploy a W&B server locally: https://wandb.me/wandb-server)\n",
    "wandb: You can find your API key in your browser here: https://wandb.ai/authorize?ref=weave\n",
    "wandb: Paste an API key from your profile and hit enter:\n",
    "```\n",
    "- 上記リンク（https://wandb.ai/authorize?ref=weave）にアクセスし、API KEYコピー\n",
    "- API KEYを入力\n",
    "\n",
    "```\n",
    "wandb: WARNING If you're specifying your api key in code, ensure this code is not shared publicly.\n",
    "wandb: WARNING Consider setting the WANDB_API_KEY environment variable, or running `wandb login` from the command line.\n",
    "wandb: No netrc file found, creating one.\n",
    "wandb: Appending key for api.wandb.ai to your netrc file: /root/.netrc\n",
    "wandb: Currently logged in as: nhandsome to https://api.wandb.ai. Use `wandb login --relogin` to force relogin\n",
    "weave: weave version 0.52.10 is available!  To upgrade, please run:\n",
    "weave:  $ pip install weave --upgrade\n",
    "weave: Logged in as Weights & Biases user: nhandsome.\n",
    "weave: View Weave data at https://wandb.ai/nhandsome/test-project/weave\n",
    "✅ Weave機能: テスト完了: Hello Weave\n",
    "\n",
    "```\n",
    "---"
   ]
  },
  {
   "cell_type": "code",
   "execution_count": 1,
   "metadata": {},
   "outputs": [
    {
     "name": "stdout",
     "output_type": "stream",
     "text": [
      "✅ weave\n"
     ]
    }
   ],
   "source": [
    "# pip install check\n",
    "try:\n",
    "    import weave\n",
    "    print(\"✅ weave\")\n",
    "except ImportError:\n",
    "    print(\"❌ weave\")\n",
    "    print(\"pip install weave\")"
   ]
  },
  {
   "cell_type": "code",
   "execution_count": 4,
   "metadata": {},
   "outputs": [
    {
     "name": "stdout",
     "output_type": "stream",
     "text": [
      "✅ UPSTAGE_API_KEY が設定されています: up_c****\n",
      "✅ LLM応答: こんにちは！「Hello World」ですね。  \n",
      "日本語で「こんにちは、世界！」と訳すことができます。  \n",
      "\n",
      "プログラミングの最初のステップとしてよく使われるフレーズですが、何か特定の言語や用途でお手伝いできることはありますか？  \n",
      "（例: Pythonで「Hello World」を表示するコードは `print(\"こんにちは、世界！\")` です）  \n",
      "\n",
      "お気軽にお尋ねください！ 😊\n"
     ]
    }
   ],
   "source": [
    "# Upstage API(LLM Hello World)確認\n",
    "import os\n",
    "import requests\n",
    "\n",
    "# ======================================================\n",
    "# APIキーの設定\n",
    "# https://console.upstage.ai/api-keys\n",
    "# ======================================================\n",
    "# os.environ[\"UPSTAGE_API_KEY\"] = 'YOUR_API_KEY' # ← 実際のキーをここに入れる\n",
    "\n",
    "api_key = os.environ.get(\"UPSTAGE_API_KEY\")\n",
    "if not api_key:\n",
    "    raise ValueError(\"❌ UPSTAGE_API_KEY が環境変数に設定されていません。\")\n",
    "else:\n",
    "    print(f\"✅ UPSTAGE_API_KEY が設定されています: {api_key[:4]}****\")  \n",
    "    \n",
    "messages = [{\"role\": \"user\", \"content\": \"Hello World\"}]\n",
    "payload = {\"model\": \"syn-pro\", \"messages\": messages, \"temperature\": 0.1, \"max_tokens\": 100}\n",
    "\n",
    "response = requests.post(\n",
    "    \"https://api.upstage.ai/v1/chat/completions\",\n",
    "    headers={\"Authorization\": f\"Bearer {api_key}\", \"Content-Type\": \"application/json\"},\n",
    "    json=payload\n",
    ")\n",
    "\n",
    "result = response.json()\n",
    "print(f\"✅ LLM応答: {result['choices'][0]['message']['content']}\")"
   ]
  },
  {
   "cell_type": "code",
   "execution_count": 3,
   "metadata": {},
   "outputs": [
    {
     "name": "stderr",
     "output_type": "stream",
     "text": [
      "\u001b[36m\u001b[1mweave\u001b[0m: wandb version 0.22.3 is available!  To upgrade, please run:\n",
      "\u001b[36m\u001b[1mweave\u001b[0m:  $ pip install wandb --upgrade\n",
      "\u001b[36m\u001b[1mweave\u001b[0m: weave version 0.52.11 is available!  To upgrade, please run:\n",
      "\u001b[36m\u001b[1mweave\u001b[0m:  $ pip install weave --upgrade\n",
      "\u001b[36m\u001b[1mweave\u001b[0m: Logged in as Weights & Biases user: nhandsome.\n",
      "\u001b[36m\u001b[1mweave\u001b[0m: View Weave data at https://wandb.ai/nhandsome/test-project/weave\n"
     ]
    },
    {
     "name": "stdout",
     "output_type": "stream",
     "text": [
      "✅ Weave機能: テスト完了: Hello Weave\n"
     ]
    },
    {
     "name": "stderr",
     "output_type": "stream",
     "text": [
      "\u001b[36m\u001b[1mweave\u001b[0m: 🍩 https://wandb.ai/nhandsome/test-project/r/call/019a2eb3-fd89-7741-9ac9-3f035f2f984b\n"
     ]
    }
   ],
   "source": [
    "# Weaveアクセス確認\n",
    "weave.init(\"test-project\")\n",
    "\n",
    "@weave.op\n",
    "def test_function(text: str) -> str:\n",
    "    return f\"テスト完了: {text}\"\n",
    "\n",
    "result = test_function(\"Hello Weave\")\n",
    "print(f\"✅ Weave機能: {result}\")"
   ]
  },
  {
   "cell_type": "code",
   "execution_count": null,
   "metadata": {},
   "outputs": [],
   "source": []
  }
 ],
 "metadata": {
  "kernelspec": {
   "display_name": "venv_fc_upstage",
   "language": "python",
   "name": "python3"
  },
  "language_info": {
   "codemirror_mode": {
    "name": "ipython",
    "version": 3
   },
   "file_extension": ".py",
   "mimetype": "text/x-python",
   "name": "python",
   "nbconvert_exporter": "python",
   "pygments_lexer": "ipython3",
   "version": "3.10.11"
  }
 },
 "nbformat": 4,
 "nbformat_minor": 4
}
